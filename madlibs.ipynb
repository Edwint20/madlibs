{
 "cells": [
  {
   "cell_type": "code",
   "execution_count": 2,
   "id": "1cbcde59",
   "metadata": {},
   "outputs": [
    {
     "name": "stdout",
     "output_type": "stream",
     "text": [
      "subscribe to Edwin Thankachan\n",
      "subscribe to Edwin Thankachan\n",
      "subscribe to Edwin Thankachan\n"
     ]
    }
   ],
   "source": [
    "youtuber = \"Edwin Thankachan\"\n",
    "print(\"subscribe to \" + youtuber)\n",
    "print(\"subscribe to {}\".format(youtuber))\n",
    "print(f\"subscribe to {youtuber}\")\n"
   ]
  },
  {
   "cell_type": "code",
   "execution_count": null,
   "id": "f84f7992",
   "metadata": {
    "scrolled": false
   },
   "outputs": [],
   "source": [
    "adj = input(\"Adjective: \")\n",
    "verb1 = input(\"Verb: \")\n",
    "verb2 = input(\"Verb: \")\n",
    "famous_person = input(\"Famous person: \")\n",
    "\n",
    "madlid = f\"computer program is so {adj}! It makes me so exiticed all the time because \\ I love to {verb1}. Stay hydrated and {verb2} like you are {famous_person}!\"\n",
    "print(madlid)"
   ]
  },
  {
   "cell_type": "code",
   "execution_count": null,
   "id": "c995709e",
   "metadata": {},
   "outputs": [],
   "source": []
  },
  {
   "cell_type": "code",
   "execution_count": null,
   "id": "52655b2d",
   "metadata": {},
   "outputs": [],
   "source": []
  }
 ],
 "metadata": {
  "kernelspec": {
   "display_name": "Python 3 (ipykernel)",
   "language": "python",
   "name": "python3"
  },
  "language_info": {
   "codemirror_mode": {
    "name": "ipython",
    "version": 3
   },
   "file_extension": ".py",
   "mimetype": "text/x-python",
   "name": "python",
   "nbconvert_exporter": "python",
   "pygments_lexer": "ipython3",
   "version": "3.10.5"
  }
 },
 "nbformat": 4,
 "nbformat_minor": 5
}
